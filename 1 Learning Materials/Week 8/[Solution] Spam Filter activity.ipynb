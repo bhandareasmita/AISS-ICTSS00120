{
 "cells": [
  {
   "cell_type": "markdown",
   "metadata": {},
   "source": [
    "# Spam Filter Replication of Ruskanda, F.Z., 2019"
   ]
  },
  {
   "cell_type": "markdown",
   "metadata": {},
   "source": [
    "### Initialization\n"
   ]
  },
  {
   "cell_type": "code",
   "execution_count": 53,
   "metadata": {},
   "outputs": [],
   "source": [
    "from pandas import DataFrame\n",
    "import pandas as pd\n",
    "\n",
    "pd.set_option(\"display.max_rows\", 50)\n",
    "pd.set_option(\"display.max_columns\", 500)\n",
    "\n",
    "\n",
    "def get_unique_values(df: DataFrame):\n",
    "    return {column: set(df[column].unique()) for column in df}"
   ]
  },
  {
   "cell_type": "markdown",
   "metadata": {},
   "source": [
    "### Load Data\n"
   ]
  },
  {
   "cell_type": "code",
   "execution_count": 54,
   "metadata": {},
   "outputs": [
    {
     "data": {
      "text/html": [
       "<div>\n",
       "<style scoped>\n",
       "    .dataframe tbody tr th:only-of-type {\n",
       "        vertical-align: middle;\n",
       "    }\n",
       "\n",
       "    .dataframe tbody tr th {\n",
       "        vertical-align: top;\n",
       "    }\n",
       "\n",
       "    .dataframe thead th {\n",
       "        text-align: right;\n",
       "    }\n",
       "</style>\n",
       "<table border=\"1\" class=\"dataframe\">\n",
       "  <thead>\n",
       "    <tr style=\"text-align: right;\">\n",
       "      <th></th>\n",
       "      <th>Unnamed: 0</th>\n",
       "      <th>sms</th>\n",
       "      <th>spam</th>\n",
       "      <th>Unnamed: 3</th>\n",
       "    </tr>\n",
       "  </thead>\n",
       "  <tbody>\n",
       "    <tr>\n",
       "      <th>0</th>\n",
       "      <td>0</td>\n",
       "      <td>1. Tension face 2. Smiling face 3. Waste face ...</td>\n",
       "      <td>False</td>\n",
       "      <td>NaN</td>\n",
       "    </tr>\n",
       "    <tr>\n",
       "      <th>1</th>\n",
       "      <td>1</td>\n",
       "      <td>Hhahhaahahah rofl was leonardo in your room or...</td>\n",
       "      <td>False</td>\n",
       "      <td>NaN</td>\n",
       "    </tr>\n",
       "    <tr>\n",
       "      <th>2</th>\n",
       "      <td>4</td>\n",
       "      <td>Oh for  sake she's in like</td>\n",
       "      <td>False</td>\n",
       "      <td>NaN</td>\n",
       "    </tr>\n",
       "    <tr>\n",
       "      <th>3</th>\n",
       "      <td>5</td>\n",
       "      <td>No da:)he is stupid da..always sending like th...</td>\n",
       "      <td>False</td>\n",
       "      <td>NaN</td>\n",
       "    </tr>\n",
       "    <tr>\n",
       "      <th>4</th>\n",
       "      <td>6</td>\n",
       "      <td>Lul im gettin some juicy gossip at the hospita...</td>\n",
       "      <td>False</td>\n",
       "      <td>NaN</td>\n",
       "    </tr>\n",
       "  </tbody>\n",
       "</table>\n",
       "</div>"
      ],
      "text/plain": [
       "   Unnamed: 0                                                sms   spam  \\\n",
       "0           0  1. Tension face 2. Smiling face 3. Waste face ...  False   \n",
       "1           1  Hhahhaahahah rofl was leonardo in your room or...  False   \n",
       "2           4                        Oh for  sake she's in like   False   \n",
       "3           5  No da:)he is stupid da..always sending like th...  False   \n",
       "4           6  Lul im gettin some juicy gossip at the hospita...  False   \n",
       "\n",
       "  Unnamed: 3  \n",
       "0        NaN  \n",
       "1        NaN  \n",
       "2        NaN  \n",
       "3        NaN  \n",
       "4        NaN  "
      ]
     },
     "execution_count": 54,
     "metadata": {},
     "output_type": "execute_result"
    }
   ],
   "source": [
    "df = pd.read_csv(\"sms.csv\")\n",
    "\n",
    "df.head()"
   ]
  },
  {
   "cell_type": "code",
   "execution_count": 55,
   "metadata": {},
   "outputs": [
    {
     "name": "stdout",
     "output_type": "stream",
     "text": [
      "<class 'pandas.core.frame.DataFrame'>\n",
      "RangeIndex: 5351 entries, 0 to 5350\n",
      "Data columns (total 2 columns):\n",
      " #   Column   Non-Null Count  Dtype \n",
      "---  ------   --------------  ----- \n",
      " 0   sms      5351 non-null   object\n",
      " 1   is_spam  5351 non-null   bool  \n",
      "dtypes: bool(1), object(1)\n",
      "memory usage: 47.2+ KB\n",
      "None\n",
      "                                                 sms  is_spam\n",
      "0  1. Tension face 2. Smiling face 3. Waste face ...    False\n",
      "1  Hhahhaahahah rofl was leonardo in your room or...    False\n",
      "2                        Oh for  sake she's in like     False\n",
      "3  No da:)he is stupid da..always sending like th...    False\n",
      "4  Lul im gettin some juicy gossip at the hospita...    False\n"
     ]
    }
   ],
   "source": [
    "import pandas as pd\n",
    "\n",
    "# Define the column names\n",
    "column_names = [\"index\", \"sms\", \"is_spam\", \"extra\"]\n",
    "\n",
    "# Load the data into a pandas DataFrame\n",
    "# Assuming the extra comma at the end of each line results in an additional empty column, which we'll ignore\n",
    "df = pd.read_csv(\n",
    "    \"sms.csv\", names=column_names, usecols=[\"sms\", \"is_spam\"], skiprows=1\n",
    ")\n",
    "data = df.copy()\n",
    "print(data.info())\n",
    "print(data.head())"
   ]
  },
  {
   "cell_type": "code",
   "execution_count": 56,
   "metadata": {},
   "outputs": [
    {
     "name": "stdout",
     "output_type": "stream",
     "text": [
      "True\n"
     ]
    }
   ],
   "source": [
    "unique_values = get_unique_values(data)\n",
    "print(len(unique_values[\"is_spam\"]) == 2)"
   ]
  },
  {
   "cell_type": "code",
   "execution_count": 57,
   "metadata": {},
   "outputs": [
    {
     "name": "stdout",
     "output_type": "stream",
     "text": [
      "<class 'pandas.core.frame.DataFrame'>\n",
      "RangeIndex: 5351 entries, 0 to 5350\n",
      "Data columns (total 2 columns):\n",
      " #   Column   Non-Null Count  Dtype  \n",
      "---  ------   --------------  -----  \n",
      " 0   sms      5351 non-null   string \n",
      " 1   is_spam  5351 non-null   boolean\n",
      "dtypes: boolean(1), string(1)\n",
      "memory usage: 52.4 KB\n"
     ]
    }
   ],
   "source": [
    "# Convert 'is_spam' from string 'FALSE'/'TRUE' to actual Boolean values\n",
    "data[\"is_spam\"] = (\n",
    "    data[\"is_spam\"]\n",
    "    .mask(data[\"is_spam\"] == \"TRUE\", True)\n",
    "    .mask(data[\"is_spam\"] == \"FALSE\", False)\n",
    ")\n",
    "data = data.convert_dtypes()\n",
    "data.info()"
   ]
  },
  {
   "cell_type": "code",
   "execution_count": 58,
   "metadata": {},
   "outputs": [
    {
     "name": "stdout",
     "output_type": "stream",
     "text": [
      "First few entries of the data:\n",
      "                                                 sms  is_spam\n",
      "0  1. Tension face 2. Smiling face 3. Waste face ...    False\n",
      "1  Hhahhaahahah rofl was leonardo in your room or...    False\n",
      "2                        Oh for  sake she's in like     False\n",
      "3  No da:)he is stupid da..always sending like th...    False\n",
      "4  Lul im gettin some juicy gossip at the hospita...    False\n"
     ]
    }
   ],
   "source": [
    "# Inspect the first few rows of the DataFrame\n",
    "print(\"First few entries of the data:\")\n",
    "print(data.head())"
   ]
  },
  {
   "cell_type": "code",
   "execution_count": 59,
   "metadata": {},
   "outputs": [
    {
     "name": "stdout",
     "output_type": "stream",
     "text": [
      "\n",
      "Data types of columns:\n",
      "sms        string[python]\n",
      "is_spam           boolean\n",
      "dtype: object\n"
     ]
    }
   ],
   "source": [
    "# Check and print data types\n",
    "print(\"\\nData types of columns:\")\n",
    "print(data.dtypes)"
   ]
  },
  {
   "cell_type": "code",
   "execution_count": 60,
   "metadata": {},
   "outputs": [
    {
     "name": "stdout",
     "output_type": "stream",
     "text": [
      "\n",
      "Missing values per column:\n",
      "sms        0\n",
      "is_spam    0\n",
      "dtype: int64\n"
     ]
    }
   ],
   "source": [
    "# Check for any missing or null values\n",
    "missing_values = data.isnull().sum()\n",
    "print(\"\\nMissing values per column:\")\n",
    "print(missing_values)"
   ]
  },
  {
   "cell_type": "code",
   "execution_count": 61,
   "metadata": {},
   "outputs": [],
   "source": [
    "# Reset the DataFrame index if it's incomplete or has gaps\n",
    "data.reset_index(drop=True, inplace=True)"
   ]
  },
  {
   "cell_type": "code",
   "execution_count": 62,
   "metadata": {},
   "outputs": [
    {
     "name": "stdout",
     "output_type": "stream",
     "text": [
      "\n",
      "Duplicate rows:\n",
      "403\n",
      "Bias in duplication:\n",
      "Marked as spam 102\n",
      "Marked as not spam 301\n"
     ]
    },
    {
     "name": "stderr",
     "output_type": "stream",
     "text": [
      "/var/folders/53/5bkhp7ns2pzfq1mljpn8txrw0000gn/T/ipykernel_74281/446790045.py:7: UserWarning: Boolean Series key will be reindexed to match DataFrame index.\n",
      "  print(\"Marked as spam\", len(data[duplicate_rows][data[\"is_spam\"]]))\n",
      "/var/folders/53/5bkhp7ns2pzfq1mljpn8txrw0000gn/T/ipykernel_74281/446790045.py:9: UserWarning: Boolean Series key will be reindexed to match DataFrame index.\n",
      "  print(\"Marked as not spam\", len(data[duplicate_rows][~data[\"is_spam\"]]))\n"
     ]
    }
   ],
   "source": [
    "# Perform initial data quality inspection\n",
    "# For example, checking for duplicate entries\n",
    "duplicate_rows = data.duplicated()\n",
    "print(\"\\nDuplicate rows:\")\n",
    "print(duplicate_rows.sum())\n",
    "print(\"Bias in duplication:\")\n",
    "print(\"Marked as spam\", len(data[duplicate_rows][data[\"is_spam\"]]))\n",
    "\n",
    "print(\"Marked as not spam\", len(data[duplicate_rows][~data[\"is_spam\"]]))"
   ]
  },
  {
   "cell_type": "markdown",
   "metadata": {},
   "source": [
    "As we can see there is a small sample of spam marked messages. Only 13% of our sample is marked as spam (704 messages)\n"
   ]
  },
  {
   "cell_type": "code",
   "execution_count": 63,
   "metadata": {},
   "outputs": [
    {
     "name": "stdout",
     "output_type": "stream",
     "text": [
      "\n",
      "Cleaned data information:\n",
      "<class 'pandas.core.frame.DataFrame'>\n",
      "RangeIndex: 5351 entries, 0 to 5350\n",
      "Data columns (total 2 columns):\n",
      " #   Column   Non-Null Count  Dtype  \n",
      "---  ------   --------------  -----  \n",
      " 0   sms      5351 non-null   string \n",
      " 1   is_spam  5351 non-null   boolean\n",
      "dtypes: boolean(1), string(1)\n",
      "memory usage: 52.4 KB\n",
      "None\n"
     ]
    }
   ],
   "source": [
    "# Display the cleaned DataFrame information\n",
    "print(\"\\nCleaned data information:\")\n",
    "print(data.info())"
   ]
  },
  {
   "cell_type": "code",
   "execution_count": 64,
   "metadata": {},
   "outputs": [
    {
     "name": "stdout",
     "output_type": "stream",
     "text": [
      "\n",
      "Cleaned data preview:\n",
      "                                                 sms  is_spam\n",
      "0  1. Tension face 2. Smiling face 3. Waste face ...    False\n",
      "1  Hhahhaahahah rofl was leonardo in your room or...    False\n",
      "2                        Oh for  sake she's in like     False\n",
      "3  No da:)he is stupid da..always sending like th...    False\n",
      "4  Lul im gettin some juicy gossip at the hospita...    False\n"
     ]
    }
   ],
   "source": [
    "# Show cleaned data preview\n",
    "print(\"\\nCleaned data preview:\")\n",
    "print(data.head())"
   ]
  },
  {
   "cell_type": "markdown",
   "metadata": {},
   "source": [
    "## Methodology\n",
    "\n",
    "Based on Ruskanda (2019) I will be attempting to implement two machine learning approaches to address the case study problem using:\n",
    "\n",
    "1. **Naive Bayes Classifier**\n",
    "   - **Rationale**: Naive Bayes is a probabilistic classifier that works well for text classification tasks, especially for spam detection. It performs well even with small datasets and handles text data's high-dimensional feature space efficiently.\n",
    "   - **Advantages**: Simple and fast, performs particularly well on textual data, handles noise well, and doesn't require a large amount of training data to produce effective classifications.\n",
    "   - **Implementation**: In Python, the Scikit-learn library provides various implementations of the Naive Bayes algorithm, such as `MultinomialNB`, which is particularly suitable for text classification with discrete features (e.g., word counts or TF-IDF scores).\n",
    "2. **Support Vector Machine (SVM)**\n",
    "   - **Rationale**: SVM classifiers are effective in high-dimensional spaces, such as text data. They find the optimal hyperplane that maximizes the margin between the two classes,\n",
    "     which can be particularly useful for differentiating between\n",
    "     spam and not spam messages.\n",
    "   - **Advantages**: SVMs are versatile with the ability to use different kernel functions to handle non-linear data. They are robust against overfitting, especially in high-dimensional spaces.\n",
    "   - **Implementation**: The Scikit-learn library offers `SVC` for classification tasks, which allows various kernels such as linear, polynomial, and radial basis function (RBF). Pairing SVM with TF-IDF (term frequency-inverse document frequency) feature extraction often yields strong results in text classification scenarios.\n"
   ]
  },
  {
   "cell_type": "markdown",
   "metadata": {},
   "source": [
    "### Pre-Processing technique used:\n",
    "\n",
    "Based on Ruskanda (2019) we will apply the following preprocessing techniques:\n",
    "\n",
    "- Stemming,\n",
    "- Lemmatization,\n",
    "- Stopwords removal\n",
    "- and noise removal\n"
   ]
  },
  {
   "cell_type": "markdown",
   "metadata": {},
   "source": [
    "## Pre-processing\n"
   ]
  },
  {
   "cell_type": "code",
   "execution_count": 65,
   "metadata": {},
   "outputs": [
    {
     "name": "stderr",
     "output_type": "stream",
     "text": [
      "[nltk_data] Downloading package punkt to /Users/jordan/nltk_data...\n",
      "[nltk_data]   Package punkt is already up-to-date!\n",
      "[nltk_data] Downloading package stopwords to\n",
      "[nltk_data]     /Users/jordan/nltk_data...\n",
      "[nltk_data]   Package stopwords is already up-to-date!\n",
      "[nltk_data] Downloading package wordnet to /Users/jordan/nltk_data...\n",
      "[nltk_data]   Package wordnet is already up-to-date!\n"
     ]
    },
    {
     "data": {
      "text/plain": [
       "True"
      ]
     },
     "execution_count": 65,
     "metadata": {},
     "output_type": "execute_result"
    }
   ],
   "source": [
    "import nltk\n",
    "import re\n",
    "from nltk.stem import PorterStemmer\n",
    "from nltk.tokenize import word_tokenize\n",
    "from nltk.corpus import stopwords\n",
    "from nltk.stem import WordNetLemmatizer\n",
    "\n",
    "# Make sure to run this at least once in your environment\n",
    "nltk.download(\"punkt\")\n",
    "nltk.download(\"stopwords\")\n",
    "nltk.download(\"wordnet\")"
   ]
  },
  {
   "cell_type": "code",
   "execution_count": 66,
   "metadata": {},
   "outputs": [
    {
     "name": "stdout",
     "output_type": "stream",
     "text": [
      "                                                 sms  \\\n",
      "0  1. Tension face 2. Smiling face 3. Waste face ...   \n",
      "1  Hhahhaahahah rofl was leonardo in your room or...   \n",
      "2                        Oh for  sake she's in like    \n",
      "3  No da:)he is stupid da..always sending like th...   \n",
      "4  Lul im gettin some juicy gossip at the hospita...   \n",
      "\n",
      "                                         sms_cleaned  \n",
      "0  tension face smile face wast face innoc face f...  \n",
      "1             hhahhaahahah rofl leonardo room someth  \n",
      "2                                       oh sake like  \n",
      "3                da stupid da alway send like believ  \n",
      "4             lul im gettin juici gossip hospit oyea  \n"
     ]
    }
   ],
   "source": [
    "# Initialize stemmer and lemmatizer\n",
    "stemmer = PorterStemmer()\n",
    "lemmatizer = WordNetLemmatizer()\n",
    "\n",
    "# English stop words set\n",
    "stop_words = set(stopwords.words(\"english\"))\n",
    "\n",
    "\n",
    "# Function to clean the text based on the article's recommendations\n",
    "def preprocess_text(sms):\n",
    "    # Remove HTML tags\n",
    "    sms = re.sub(r\"<.*?>\", \" \", sms)\n",
    "\n",
    "    # Convert to lower case\n",
    "    sms = sms.lower()\n",
    "\n",
    "    # Remove stop words and tokenize\n",
    "    words = word_tokenize(sms)\n",
    "    words = [word for word in words if word not in stop_words]\n",
    "\n",
    "    # Stemming and Lemmatization\n",
    "    words = [stemmer.stem(word) for word in words]\n",
    "    words = [lemmatizer.lemmatize(word) for word in words]\n",
    "\n",
    "    # Remove punctuation after tokenizing to retain words like \"n't\" and \"re\"\n",
    "    words = [word for word in words if word.isalnum()]\n",
    "\n",
    "    return \" \".join(words)\n",
    "\n",
    "\n",
    "# Assume DataFrame with 'sms' column is already loaded into `df`\n",
    "data[\"sms_cleaned\"] = data[\"sms\"].apply(preprocess_text)\n",
    "\n",
    "# Checking the results\n",
    "print(data[[\"sms\", \"sms_cleaned\"]].head())"
   ]
  },
  {
   "cell_type": "markdown",
   "metadata": {},
   "source": [
    "## EDA Exploratory Data Analysis\n"
   ]
  },
  {
   "cell_type": "code",
   "execution_count": 67,
   "metadata": {},
   "outputs": [
    {
     "name": "stdout",
     "output_type": "stream",
     "text": [
      "\n",
      "Value counts for 'is_spam' column:\n",
      "is_spam\n",
      "False    4647\n",
      "True      704\n",
      "Name: count, dtype: Int64\n",
      "is_spam\n",
      "False    0.868436\n",
      "True     0.131564\n",
      "Name: proportion, dtype: Float64\n"
     ]
    }
   ],
   "source": [
    "# Check the value counts for 'is_spam' to ensure data consistency\n",
    "print(\"\\nValue counts for 'is_spam' column:\")\n",
    "print(data[\"is_spam\"].value_counts())\n",
    "print(data[\"is_spam\"].value_counts(normalize=True))"
   ]
  },
  {
   "cell_type": "code",
   "execution_count": 68,
   "metadata": {},
   "outputs": [
    {
     "data": {
      "image/png": "[encoded data removed]",
      "text/plain": [
       "<Figure size 1800x600 with 2 Axes>"
      ]
     },
     "metadata": {},
     "output_type": "display_data"
    }
   ],
   "source": [
    "from sklearn.feature_extraction.text import CountVectorizer\n",
    "import numpy as np\n",
    "import matplotlib.pyplot as plt\n",
    "from sklearn.feature_extraction.text import CountVectorizer\n",
    "\n",
    "\n",
    "def extract_features(df):\n",
    "    # Initialize CountVectorizer\n",
    "    vectorizer = CountVectorizer(max_features=10)\n",
    "\n",
    "    # Fit the vectorizer to the 'sms_cleaned' data and transform the data into a matrix of token counts\n",
    "    X = vectorizer.fit_transform(df[\"sms_cleaned\"])\n",
    "\n",
    "    # This matrix 'X' can now be used as input for machine learning models\n",
    "    # The following are useful attributes once CountVectorizer has been fitted:\n",
    "    # Get the feature names (i.e., the vocabulary of the dataset)\n",
    "    features = vectorizer.get_feature_names_out()\n",
    "\n",
    "    # Convert the matrix to a dense matrix or DataFrame to visualize it\n",
    "    dense_matrix = X.todense()\n",
    "    features_df = pd.DataFrame(dense_matrix, columns=features)\n",
    "    return features_df\n",
    "\n",
    "\n",
    "def plot_most_common_words(df, n_top_words=20):\n",
    "    \"\"\"\n",
    "    Plots the most common words in spam and ham messages.\n",
    "\n",
    "    Parameters:\n",
    "    - df: DataFrame with two columns, 'sms_cleaned' (text data) and 'is_spam' (boolean labels)\n",
    "    - n_top_words: number of top words to plot for each category (default is 20)\n",
    "    \"\"\"\n",
    "\n",
    "    # Separate the spam and ham messages\n",
    "    spam_messages = df[df[\"is_spam\"]][\"sms_cleaned\"]\n",
    "    ham_messages = df[~df[\"is_spam\"]][\"sms_cleaned\"]\n",
    "\n",
    "    # Initialize CountVectorizers\n",
    "    vectorizer_spam = CountVectorizer(stop_words=\"english\")\n",
    "    vectorizer_ham = CountVectorizer(stop_words=\"english\")\n",
    "\n",
    "    # Fit and transform the messages\n",
    "    spam_matrix = vectorizer_spam.fit_transform(spam_messages)\n",
    "    ham_matrix = vectorizer_ham.fit_transform(ham_messages)\n",
    "\n",
    "    # Sum the count of each word for spam and ham\n",
    "    sum_spam = np.sum(spam_matrix, axis=0)\n",
    "    sum_ham = np.sum(ham_matrix, axis=0)\n",
    "\n",
    "    # Convert to array and get the list of words corresponding to the columns\n",
    "    words_spam = [\n",
    "        (word, sum_spam[0, idx]) for word, idx in vectorizer_spam.vocabulary_.items()\n",
    "    ]\n",
    "    words_ham = [\n",
    "        (word, sum_ham[0, idx]) for word, idx in vectorizer_ham.vocabulary_.items()\n",
    "    ]\n",
    "\n",
    "    # Sort the words based on frequency\n",
    "    words_spam = sorted(words_spam, key=lambda x: x[1], reverse=True)[:n_top_words]\n",
    "    words_ham = sorted(words_ham, key=lambda x: x[1], reverse=True)[:n_top_words]\n",
    "\n",
    "    # Unzip into words and counts\n",
    "    spam_words, spam_counts = zip(*words_spam)\n",
    "    ham_words, ham_counts = zip(*words_ham)\n",
    "\n",
    "    # Plotting\n",
    "    fig, (ax1, ax2) = plt.subplots(1, 2, figsize=(18, 6))\n",
    "\n",
    "    # Spam Words\n",
    "    ax1.barh(spam_words, spam_counts, color=\"red\")\n",
    "    ax1.set_title(f\"Top {n_top_words} Most Common Words in Spam Messages\")\n",
    "    ax1.invert_yaxis()\n",
    "\n",
    "    # Ham Words\n",
    "    ax2.barh(ham_words, ham_counts, color=\"green\")\n",
    "    ax2.set_title(f\"Top {n_top_words} Most Common Words in Ham Messages\")\n",
    "    ax2.invert_yaxis()\n",
    "\n",
    "    # Display plot\n",
    "    plt.tight_layout()\n",
    "    plt.show()\n",
    "\n",
    "\n",
    "# Display the dense DataFrame\n",
    "plot_most_common_words(data, n_top_words=20)"
   ]
  },
  {
   "cell_type": "markdown",
   "metadata": {},
   "source": []
  },
  {
   "cell_type": "markdown",
   "metadata": {},
   "source": [
    "## Split Data\n"
   ]
  },
  {
   "cell_type": "code",
   "execution_count": 69,
   "metadata": {},
   "outputs": [
    {
     "name": "stdout",
     "output_type": "stream",
     "text": [
      "Class distribution in y_train_smote: is_spam\n",
      "0    3252\n",
      "1    3252\n",
      "Name: count, dtype: int64\n"
     ]
    }
   ],
   "source": [
    "from sklearn.model_selection import train_test_split\n",
    "from imblearn.over_sampling import SMOTE\n",
    "from sklearn.feature_extraction.text import CountVectorizer\n",
    "\n",
    "# Extract features using CountVectorizer\n",
    "vectorizer = CountVectorizer()\n",
    "X = vectorizer.fit_transform(data[\"sms_cleaned\"])\n",
    "\n",
    "# Define the target variable 'y'\n",
    "y = df[\"is_spam\"].astype(int)  # Make sure it is an integer type\n",
    "\n",
    "# Split the dataset into 70% training and 30% test sets (can adjust as needed)\n",
    "X_train, X_test, y_train, y_test = train_test_split(\n",
    "    X, y, test_size=0.3, random_state=42, stratify=y\n",
    ")\n",
    "\n",
    "# Initialize SMOTE instance\n",
    "smote = SMOTE(random_state=42)\n",
    "\n",
    "# Fit SMOTE on the training data only\n",
    "X_train_smote, y_train_smote = smote.fit_resample(X_train, y_train)\n",
    "\n",
    "# Check class balance in the target after SMOTE\n",
    "print(\"Class distribution in y_train_smote:\", pd.Series(y_train_smote).value_counts())"
   ]
  },
  {
   "cell_type": "markdown",
   "metadata": {},
   "source": [
    "## Train Models: Naive Bayes Classifier\n"
   ]
  },
  {
   "cell_type": "code",
   "execution_count": 70,
   "metadata": {},
   "outputs": [
    {
     "name": "stdout",
     "output_type": "stream",
     "text": [
      "Accuracy of the Naive Bayes classifier: 0.96\n",
      "Confusion Matrix:\n",
      " [[1347   48]\n",
      " [  19  192]]\n"
     ]
    }
   ],
   "source": [
    "from sklearn.naive_bayes import MultinomialNB\n",
    "from sklearn.metrics import accuracy_score, confusion_matrix, classification_report\n",
    "\n",
    "# Instantiate the classifier\n",
    "nb_classifier = MultinomialNB()\n",
    "\n",
    "# Train the classifier using the training data after SMOTE balancing\n",
    "nb_classifier.fit(X_train_smote, y_train_smote)\n",
    "\n",
    "# Make predictions on the test data\n",
    "y_pred = nb_classifier.predict(X_test)\n",
    "\n",
    "# Calculate accuracy\n",
    "accuracy = accuracy_score(y_test, y_pred)\n",
    "print(f\"Accuracy of the Naive Bayes classifier: {accuracy:.2f}\")\n",
    "\n",
    "# Generate a confusion matrix\n",
    "conf_matrix = confusion_matrix(y_test, y_pred)\n",
    "print(\"Confusion Matrix:\\n\", conf_matrix)"
   ]
  },
  {
   "cell_type": "markdown",
   "metadata": {},
   "source": [
    "Ruskanda (2019) does not recommend using only accuracy as the measure of success in these cases due to the possibility of unbalanced classes.\n",
    "\n",
    "Instead, the precision, recall, and F1-score are more informative metrics in such scenarios.\n"
   ]
  },
  {
   "cell_type": "code",
   "execution_count": 71,
   "metadata": {},
   "outputs": [
    {
     "name": "stdout",
     "output_type": "stream",
     "text": [
      "Classification Report:\n",
      "               precision    recall  f1-score   support\n",
      "\n",
      "         Ham       0.99      0.97      0.98      1395\n",
      "        Spam       0.80      0.91      0.85       211\n",
      "\n",
      "    accuracy                           0.96      1606\n",
      "   macro avg       0.89      0.94      0.91      1606\n",
      "weighted avg       0.96      0.96      0.96      1606\n",
      "\n"
     ]
    }
   ],
   "source": [
    "# Generate a classification report\n",
    "class_report = classification_report(y_test, y_pred, target_names=[\"Ham\", \"Spam\"])\n",
    "print(\"Classification Report:\\n\", class_report)"
   ]
  },
  {
   "cell_type": "markdown",
   "metadata": {},
   "source": [
    "## Train Models: Support Vector Machine (SVM)\n"
   ]
  },
  {
   "cell_type": "code",
   "execution_count": 72,
   "metadata": {},
   "outputs": [
    {
     "name": "stdout",
     "output_type": "stream",
     "text": [
      "Accuracy of the SVM classifier: 0.85\n",
      "Confusion Matrix:\n",
      " [[1200  195]\n",
      " [  43  168]]\n",
      "Classification Report:\n",
      "               precision    recall  f1-score   support\n",
      "\n",
      "         Ham       0.97      0.86      0.91      1395\n",
      "        Spam       0.46      0.80      0.59       211\n",
      "\n",
      "    accuracy                           0.85      1606\n",
      "   macro avg       0.71      0.83      0.75      1606\n",
      "weighted avg       0.90      0.85      0.87      1606\n",
      "\n"
     ]
    }
   ],
   "source": [
    "from sklearn.svm import SVC\n",
    "from sklearn.metrics import accuracy_score, confusion_matrix, classification_report\n",
    "from sklearn.preprocessing import StandardScaler\n",
    "from sklearn.pipeline import make_pipeline\n",
    "\n",
    "# Since SVM is sensitive to the scale of the features, it's often useful to scale them\n",
    "# Create a pipeline that first scales the data then fits the SVM\n",
    "svm_pipeline = make_pipeline(\n",
    "    StandardScaler(with_mean=False), SVC(kernel=\"linear\", random_state=42)\n",
    ")\n",
    "\n",
    "# Train the SVM model using the scaled data\n",
    "svm_pipeline.fit(X_train_smote, y_train_smote)\n",
    "\n",
    "# Make predictions on the test data\n",
    "y_pred_svm = svm_pipeline.predict(X_test)\n",
    "\n",
    "# Calculate accuracy\n",
    "accuracy_svm = accuracy_score(y_test, y_pred_svm)\n",
    "print(f\"Accuracy of the SVM classifier: {accuracy_svm:.2f}\")\n",
    "\n",
    "# Generate a confusion matrix\n",
    "conf_matrix_svm = confusion_matrix(y_test, y_pred_svm)\n",
    "print(\"Confusion Matrix:\\n\", conf_matrix_svm)\n",
    "\n",
    "# Generate a classification report\n",
    "class_report_svm = classification_report(\n",
    "    y_test, y_pred_svm, target_names=[\"Ham\", \"Spam\"]\n",
    ")\n",
    "print(\"Classification Report:\\n\", class_report_svm)"
   ]
  },
  {
   "cell_type": "markdown",
   "metadata": {},
   "source": [
    "Initial performance of SVM was:\n",
    "\n",
    "    Accuracy of the SVM classifier: 0.85\n",
    "    Confusion Matrix:\n",
    "    [[1200  195]\n",
    "    [  43  168]]\n",
    "    Classification Report:\n",
    "                  precision    recall  f1-score   support\n",
    "\n",
    "            Ham       0.97      0.86      0.91      1395\n",
    "            Spam       0.46      0.80      0.59       211\n",
    "\n",
    "        accuracy                           0.85      1606\n",
    "      macro avg       0.71      0.83      0.75      1606\n",
    "    weighted avg       0.90      0.85      0.87      1606\n"
   ]
  },
  {
   "cell_type": "markdown",
   "metadata": {},
   "source": [
    "## Hyper Parameter Optimization — using Grid search\n"
   ]
  },
  {
   "cell_type": "code",
   "execution_count": 76,
   "metadata": {},
   "outputs": [
    {
     "name": "stdout",
     "output_type": "stream",
     "text": [
      "Best Naive Bayes Parameters: {'alpha': 0.1}\n",
      "Best Naive Bayes Model: MultinomialNB(alpha=0.1)\n",
      "Best CV Score: 0.8695101941870785\n",
      "Best SVM Parameters: {'svc__C': 10, 'svc__gamma': 'scale', 'svc__kernel': 'rbf'}\n",
      "Best SVM Model: Pipeline(steps=[('standardscaler', StandardScaler(with_mean=False)),\n",
      "                ('svc', SVC(C=10, random_state=42))])\n",
      "Best CV Score: 0.9299667510765108\n"
     ]
    }
   ],
   "source": [
    "from sklearn.model_selection import GridSearchCV\n",
    "from sklearn.naive_bayes import MultinomialNB\n",
    "from sklearn.svm import SVC\n",
    "\n",
    "# Create a MultinomialNB grid search\n",
    "params_nb = {\"alpha\": [0.01, 0.1, 0.5, 1.0, 10.0]}\n",
    "nb_classifier = MultinomialNB()\n",
    "nb_grid_search = GridSearchCV(\n",
    "    nb_classifier, param_grid=params_nb, cv=5, scoring=\"f1_weighted\"\n",
    ")\n",
    "nb_grid_search.fit(X_train_smote, y_train_smote)\n",
    "\n",
    "print(\"Best Naive Bayes Parameters:\", nb_grid_search.best_params_)\n",
    "print(\"Best Naive Bayes Model:\", nb_grid_search.best_estimator_)\n",
    "print(\"Best CV Score:\", nb_grid_search.best_score_)\n",
    "\n",
    "# Create an SVM grid search\n",
    "params_svm = {\n",
    "    \"svc__C\": [0.1, 1, 10],\n",
    "    \"svc__gamma\": [\"scale\", \"auto\"],\n",
    "    \"svc__kernel\": [\"linear\", \"rbf\"],\n",
    "}\n",
    "# We can reuse the svm_pipeline from earlier, without fitting it\n",
    "svm_grid_search = GridSearchCV(\n",
    "    svm_pipeline, param_grid=params_svm, cv=5, scoring=\"f1_weighted\", n_jobs=1\n",
    ")\n",
    "svm_grid_search.fit(X_train_smote, y_train_smote)\n",
    "\n",
    "print(\"Best SVM Parameters:\", svm_grid_search.best_params_)\n",
    "print(\"Best SVM Model:\", svm_grid_search.best_estimator_)\n",
    "print(\"Best CV Score:\", svm_grid_search.best_score_)"
   ]
  },
  {
   "cell_type": "markdown",
   "metadata": {},
   "source": [
    "Best Naive Bayes Parameters: {'alpha': 0.1}\n",
    "Best Naive Bayes Model: MultinomialNB(alpha=0.1)\n",
    "Best CV Score: 0.8695101941870785\n",
    "Best SVM Parameters: {'svc**C': 10, 'svc**gamma': 'scale', 'svc\\_\\_kernel': 'rbf'}\n",
    "Best SVM Model: Pipeline(steps=[('standardscaler', StandardScaler(with_mean=False)),\n",
    "('svc', SVC(C=10, random_state=42))])\n",
    "Best CV Score: 0.9299667510765108\n"
   ]
  },
  {
   "cell_type": "markdown",
   "metadata": {},
   "source": [
    "### Interpreting Results\n"
   ]
  },
  {
   "cell_type": "markdown",
   "metadata": {},
   "source": [
    "1. **Best Naive Bayes Parameters: `{'alpha': 0.1}`**\n",
    "\n",
    "   - This indicates that out of the different values provided for the hyperparameter `alpha` during the grid search, a value of 0.1 provided the best performance according to the scoring metric used, which is `'f1_weighted'` in this case.\n",
    "\n",
    "2. **Best Naive Bayes Model: `MultinomialNB(alpha=0.1)`**\n",
    "   - This tells us the best estimator found by the grid search. In other words, this is the Naive Bayes model instantiated with the best hyperparameters (`alpha=0.1`).\n",
    "3. **Best CV Score for Naive Bayes: `0.8695101941870785`**\n",
    "\n",
    "   - This is the best cross-validation (`CV`) score achieved by the best Naive Bayes model. The CV score is a measure of the model's performance as determined by the weighted F1-score, which is a harmonic mean of precision and recall, providing a balance between the two for each class and accounting for class imbalance by weighting the score for each class by its prevalence.\n",
    "\n",
    "4. **Best SVM Parameters: `{'svc__C': 10, 'svc__gamma': 'scale', 'svc__kernel': 'rbf'}`**\n",
    "\n",
    "   - For the SVM model, the best parameters identified by the grid search include `C=10`, `gamma='scale'` (which means gamma is set to 1 / (number of features \\* X.var()) as the kernel coefficient), and `kernel='rbf'` (radial basis function). These parameters specify how the SVM model should be configured to achieve the best performance with respect to the F1-score metric.\n",
    "\n",
    "5. **Best SVM Model: Pipeline with `StandardScaler` and `SVC(C=10, random_state=42)`**\n",
    "\n",
    "   - This shows us the best SVM model wrapped in a pipeline, which includes preprocessing with a `StandardScaler` and the SVM classifier. Here, `SVC(C=10)` implies the SVM model with regularization parameter `C` set to 10 and the use of a radial basis function kernel.\n",
    "\n",
    "6. **Best CV Score for SVM: `0.9299667510765108`**\n",
    "   - The best CV score for the SVM model is higher than that for the Naive Bayes model, with a value of approximately 0.93. This suggests that, based on the F1-score, the SVM model (with the specified parameters) performed better in the cross-validation process on our dataset.\n",
    "\n",
    "**Setting Hyperparameters Based on Grid Search Results:**\n",
    "\n",
    "- We can now set the hyperparameters of both models to the best ones identified during grid search. For the Naive Bayes model, we will use: `MultinomialNB(alpha=0.1)`.\n",
    "- For the SVM model within a pipeline, we will use: `make_pipeline(StandardScaler(with_mean=False), SVC(C=10, kernel='rbf', gamma='scale', random_state=42))`.\n"
   ]
  },
  {
   "cell_type": "markdown",
   "metadata": {},
   "source": [
    "## Train Best model\n"
   ]
  },
  {
   "cell_type": "markdown",
   "metadata": {},
   "source": [
    "### Best Model SVC\n"
   ]
  },
  {
   "cell_type": "code",
   "execution_count": 74,
   "metadata": {},
   "outputs": [
    {
     "name": "stdout",
     "output_type": "stream",
     "text": [
      "Accuracy of the SVM classifier: 0.87\n",
      "Confusion Matrix:\n",
      " [[1265  130]\n",
      " [  79  132]]\n",
      "Classification Report:\n",
      "               precision    recall  f1-score   support\n",
      "\n",
      "         Ham       0.94      0.91      0.92      1395\n",
      "        Spam       0.50      0.63      0.56       211\n",
      "\n",
      "    accuracy                           0.87      1606\n",
      "   macro avg       0.72      0.77      0.74      1606\n",
      "weighted avg       0.88      0.87      0.88      1606\n",
      "\n"
     ]
    }
   ],
   "source": [
    "from sklearn.svm import SVC\n",
    "from sklearn.metrics import accuracy_score, confusion_matrix, classification_report\n",
    "from sklearn.preprocessing import StandardScaler\n",
    "from sklearn.pipeline import make_pipeline\n",
    "\n",
    "svm_pipeline = make_pipeline(\n",
    "    StandardScaler(with_mean=False),\n",
    "    SVC(C=10, kernel=\"rbf\", gamma=\"scale\", random_state=42),\n",
    ")\n",
    "\n",
    "# Train the SVM model using the scaled data\n",
    "svm_pipeline.fit(X_train_smote, y_train_smote)\n",
    "\n",
    "# Make predictions on the test data\n",
    "y_pred_svm = svm_pipeline.predict(X_test)\n",
    "\n",
    "# Calculate accuracy\n",
    "accuracy_svm = accuracy_score(y_test, y_pred_svm)\n",
    "print(f\"Accuracy of the SVM classifier: {accuracy_svm:.2f}\")\n",
    "\n",
    "# Generate a confusion matrix\n",
    "conf_matrix_svm = confusion_matrix(y_test, y_pred_svm)\n",
    "print(\"Confusion Matrix:\\n\", conf_matrix_svm)\n",
    "\n",
    "# Generate a classification report\n",
    "class_report_svm = classification_report(\n",
    "    y_test, y_pred_svm, target_names=[\"Ham\", \"Spam\"]\n",
    ")\n",
    "print(\"Classification Report:\\n\", class_report_svm)"
   ]
  },
  {
   "cell_type": "markdown",
   "metadata": {},
   "source": [
    "### Best Model Naive Bayes\n"
   ]
  },
  {
   "cell_type": "code",
   "execution_count": 75,
   "metadata": {},
   "outputs": [
    {
     "name": "stdout",
     "output_type": "stream",
     "text": [
      "Accuracy of the Naive Bayes classifier: 0.97\n",
      "Confusion Matrix:\n",
      " [[1357   38]\n",
      " [  18  193]]\n",
      "Classification Report:\n",
      "               precision    recall  f1-score   support\n",
      "\n",
      "         Ham       0.99      0.97      0.98      1395\n",
      "        Spam       0.84      0.91      0.87       211\n",
      "\n",
      "    accuracy                           0.97      1606\n",
      "   macro avg       0.91      0.94      0.93      1606\n",
      "weighted avg       0.97      0.97      0.97      1606\n",
      "\n"
     ]
    }
   ],
   "source": [
    "from sklearn.naive_bayes import MultinomialNB\n",
    "from sklearn.metrics import accuracy_score, confusion_matrix, classification_report\n",
    "\n",
    "# Instantiate the classifier\n",
    "nb_classifier = MultinomialNB(alpha=0.1)\n",
    "\n",
    "# Train the classifier using the training data after SMOTE balancing\n",
    "nb_classifier.fit(X_train_smote, y_train_smote)\n",
    "\n",
    "# Make predictions on the test data\n",
    "y_pred = nb_classifier.predict(X_test)\n",
    "\n",
    "# Calculate accuracy\n",
    "accuracy = accuracy_score(y_test, y_pred)\n",
    "print(f\"Accuracy of the Naive Bayes classifier: {accuracy:.2f}\")\n",
    "\n",
    "# Generate a confusion matrix\n",
    "conf_matrix = confusion_matrix(y_test, y_pred)\n",
    "print(\"Confusion Matrix:\\n\", conf_matrix)\n",
    "\n",
    "# Generate a classification report\n",
    "class_report = classification_report(y_test, y_pred, target_names=[\"Ham\", \"Spam\"])\n",
    "print(\"Classification Report:\\n\", class_report)"
   ]
  },
  {
   "cell_type": "markdown",
   "metadata": {},
   "source": [
    "Despite the indications from our grid search when retraining and evaluating the models it is clear that Naive Bays out performs SVC when looking at Ham and Spam scores distinctly. (Uncertain exactly why this is the case.)\n",
    "Both models are improved by the selection of appropriate hyper parameters when compared to the initial attempts, however.\n"
   ]
  },
  {
   "cell_type": "markdown",
   "metadata": {},
   "source": [
    "## Testing Models\n"
   ]
  },
  {
   "cell_type": "code",
   "execution_count": 79,
   "metadata": {},
   "outputs": [
    {
     "name": "stdout",
     "output_type": "stream",
     "text": [
      "Naive Bayes Metrics:\n",
      "training_time: 0.0043\n",
      "prediction_time: 0.0003\n",
      "accuracy: 0.9583\n",
      "balanced_accuracy: 0.9378\n",
      "\n",
      "SVM Metrics:\n",
      "training_time: 1.1697\n",
      "prediction_time: 0.2258\n",
      "accuracy: 0.8699\n",
      "balanced_accuracy: 0.7662\n"
     ]
    }
   ],
   "source": [
    "import time\n",
    "from sklearn.metrics import accuracy_score, balanced_accuracy_score\n",
    "\n",
    "# Initialize dictionaries to save the evaluation metrics\n",
    "metrics_nb = {}\n",
    "metrics_svc = {}\n",
    "\n",
    "# Evaluate Naive Bayes\n",
    "start_train_nb = time.time()\n",
    "nb_classifier.fit(\n",
    "    X_train_smote, y_train_smote\n",
    ")  # Fitting might be redundant if already fit previously\n",
    "end_train_nb = time.time()\n",
    "metrics_nb[\"training_time\"] = end_train_nb - start_train_nb\n",
    "\n",
    "start_pred_nb = time.time()\n",
    "y_pred_nb = nb_classifier.predict(X_test)\n",
    "end_pred_nb = time.time()\n",
    "metrics_nb[\"prediction_time\"] = end_pred_nb - start_pred_nb\n",
    "metrics_nb[\"accuracy\"] = accuracy_score(y_test, y_pred_nb)\n",
    "metrics_nb[\"balanced_accuracy\"] = balanced_accuracy_score(y_test, y_pred_nb)\n",
    "\n",
    "# Print Naive Bayes metrics\n",
    "print(\"Naive Bayes Metrics:\")\n",
    "for metric, value in metrics_nb.items():\n",
    "    print(f\"{metric}: {value:.4f}\")\n",
    "\n",
    "# Evaluate SVM\n",
    "start_train_svc = time.time()\n",
    "svm_pipeline.fit(X_train_smote, y_train_smote)\n",
    "end_train_svc = time.time()\n",
    "metrics_svc[\"training_time\"] = end_train_svc - start_train_svc\n",
    "\n",
    "start_pred_svc = time.time()\n",
    "y_pred_svc = svm_pipeline.predict(X_test)\n",
    "end_pred_svc = time.time()\n",
    "metrics_svc[\"prediction_time\"] = end_pred_svc - start_pred_svc\n",
    "metrics_svc[\"accuracy\"] = accuracy_score(y_test, y_pred_svc)\n",
    "metrics_svc[\"balanced_accuracy\"] = balanced_accuracy_score(y_test, y_pred_svc)\n",
    "\n",
    "# Print SVM metrics\n",
    "print(\"\\nSVM Metrics:\")\n",
    "for metric, value in metrics_svc.items():\n",
    "    print(f\"{metric}: {value:.4f}\")"
   ]
  },
  {
   "cell_type": "markdown",
   "metadata": {},
   "source": [
    "## References\n",
    "\n",
    "Kaddoura, S., Chandrasekaran, G., Popescu, D.E. and Duraisamy, J.H., 2022. A systematic literature review on spam content detection and classification. _PeerJ Computer Science_, [e-journal] 8:e830. Available at: <https://doi.org/10.7717/peerj-cs.830>\n",
    "\n",
    "Ruskanda, F.Z., 2019. Study on the effect of preprocessing methods for spam email detection. _Indonesia Journal of Computing_, [e-journal] 4(1), MARET. Available at: <https://doi.org/10.21108/INDOJC.2019.4.1.284>\n"
   ]
  }
 ],
 "metadata": {
  "kernelspec": {
   "display_name": "Python 3 (ipykernel)",
   "language": "python",
   "name": "python3"
  },
  "language_info": {
   "codemirror_mode": {
    "name": "ipython",
    "version": 3
   },
   "file_extension": ".py",
   "mimetype": "text/x-python",
   "name": "python",
   "nbconvert_exporter": "python",
   "pygments_lexer": "ipython3",
   "version": "3.12.1"
  }
 },
 "nbformat": 4,
 "nbformat_minor": 2
}
