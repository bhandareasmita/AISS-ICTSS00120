{
 "cells": [
  {
   "cell_type": "markdown",
   "id": "4dda2a41",
   "metadata": {},
   "source": [
    "# Spam Filter Implementation based on Ruskanda, F.Z., 2019\n",
    "\n",
    "In this lab, we will replicate the methodology described by Ruskanda (2019) to build a spam filter using machine learning techniques. We will focus on two classifiers: Naive Bayes and Support Vector Machine (SVM). Our goal is to understand the effect of preprocessing and hyperparameter tuning on model performance.\n"
   ]
  },
  {
   "cell_type": "markdown",
   "id": "5b168295",
   "metadata": {},
   "source": [
    "## Initialization"
   ]
  },
  {
   "cell_type": "code",
   "execution_count": 1,
   "id": "90591542",
   "metadata": {},
   "outputs": [],
   "source": [
    "from pandas import DataFrame\n",
    "import pandas as pd\n",
    "\n",
    "# Set display options\n",
    "pd.set_option(\"display.max_rows\", 50)\n",
    "pd.set_option(\"display.max_columns\", 500)\n",
    "\n",
    "\n",
    "# Function to get unique values in each column\n",
    "def get_unique_values(df: DataFrame):\n",
    "    return {column: set(df[column].unique()) for column in df}"
   ]
  },
  {
   "cell_type": "markdown",
   "id": "004b4bd7",
   "metadata": {},
   "source": [
    "## Load Data"
   ]
  },
  {
   "cell_type": "code",
   "execution_count": 2,
   "id": "69f1e70e",
   "metadata": {},
   "outputs": [
    {
     "name": "stdout",
     "output_type": "stream",
     "text": [
      "<class 'pandas.core.frame.DataFrame'>\n",
      "RangeIndex: 5351 entries, 0 to 5350\n",
      "Data columns (total 2 columns):\n",
      " #   Column   Non-Null Count  Dtype \n",
      "---  ------   --------------  ----- \n",
      " 0   sms      5351 non-null   object\n",
      " 1   is_spam  5351 non-null   bool  \n",
      "dtypes: bool(1), object(1)\n",
      "memory usage: 47.2+ KB\n",
      "None\n",
      "                                                 sms  is_spam\n",
      "0  1. Tension face 2. Smiling face 3. Waste face ...    False\n",
      "1  Hhahhaahahah rofl was leonardo in your room or...    False\n",
      "2                        Oh for  sake she's in like     False\n",
      "3  No da:)he is stupid da..always sending like th...    False\n",
      "4  Lul im gettin some juicy gossip at the hospita...    False\n"
     ]
    }
   ],
   "source": [
    "# Load dataset\n",
    "df = pd.read_csv(\"sms.csv\")\n",
    "\n",
    "# Display first few rows\n",
    "df.head()\n",
    "\n",
    "# Define the appropriate column names\n",
    "column_names = [\"index\", \"sms\", \"is_spam\", \"extra\"]\n",
    "\n",
    "# Load the data into a pandas DataFrame, ignoring the extra column\n",
    "df = pd.read_csv(\"sms.csv\", names=column_names, usecols=[\"sms\", \"is_spam\"], skiprows=1)\n",
    "data = df.copy()\n",
    "\n",
    "# Display dataset information\n",
    "print(data.info())\n",
    "print(data.head())"
   ]
  },
  {
   "cell_type": "markdown",
   "id": "d3606e8b",
   "metadata": {},
   "source": [
    "### Data Cleaning and Preparation"
   ]
  },
  {
   "cell_type": "code",
   "execution_count": 3,
   "id": "868d6fc7",
   "metadata": {},
   "outputs": [
    {
     "name": "stdout",
     "output_type": "stream",
     "text": [
      "<class 'pandas.core.frame.DataFrame'>\n",
      "RangeIndex: 5351 entries, 0 to 5350\n",
      "Data columns (total 2 columns):\n",
      " #   Column   Non-Null Count  Dtype  \n",
      "---  ------   --------------  -----  \n",
      " 0   sms      5351 non-null   string \n",
      " 1   is_spam  5351 non-null   boolean\n",
      "dtypes: boolean(1), string(1)\n",
      "memory usage: 52.4 KB\n",
      "                                                 sms  is_spam\n",
      "0  1. Tension face 2. Smiling face 3. Waste face ...    False\n",
      "1  Hhahhaahahah rofl was leonardo in your room or...    False\n",
      "2                        Oh for  sake she's in like     False\n",
      "3  No da:)he is stupid da..always sending like th...    False\n",
      "4  Lul im gettin some juicy gossip at the hospita...    False\n"
     ]
    }
   ],
   "source": [
    "# Convert 'is_spam' from string 'FALSE'/'TRUE' to Boolean values\n",
    "data[\"is_spam\"] = (\n",
    "    data[\"is_spam\"]\n",
    "    .mask(data[\"is_spam\"] == \"TRUE\", True)\n",
    "    .mask(data[\"is_spam\"] == \"FALSE\", False)\n",
    ")\n",
    "data = data.convert_dtypes()\n",
    "\n",
    "# Display data information and first few rows\n",
    "data.info()\n",
    "print(data.head())"
   ]
  },
  {
   "cell_type": "code",
   "execution_count": 4,
   "id": "40524d0e",
   "metadata": {},
   "outputs": [
    {
     "name": "stdout",
     "output_type": "stream",
     "text": [
      "\n",
      "Missing values per column:\n",
      "sms        0\n",
      "is_spam    0\n",
      "dtype: int64\n",
      "\n",
      "Duplicate rows:\n",
      "403\n",
      "Marked as spam: 102\n",
      "Marked as not spam: 301\n"
     ]
    },
    {
     "name": "stderr",
     "output_type": "stream",
     "text": [
      "/var/folders/53/5bkhp7ns2pzfq1mljpn8txrw0000gn/T/ipykernel_2124/3432717861.py:15: UserWarning: Boolean Series key will be reindexed to match DataFrame index.\n",
      "  print(\"Marked as spam:\", len(data[duplicate_rows][data[\"is_spam\"]]))\n",
      "/var/folders/53/5bkhp7ns2pzfq1mljpn8txrw0000gn/T/ipykernel_2124/3432717861.py:16: UserWarning: Boolean Series key will be reindexed to match DataFrame index.\n",
      "  print(\"Marked as not spam:\", len(data[duplicate_rows][~data[\"is_spam\"]]))\n"
     ]
    }
   ],
   "source": [
    "# Check for missing or null values\n",
    "missing_values = data.isnull().sum()\n",
    "print(\"\\nMissing values per column:\")\n",
    "print(missing_values)\n",
    "\n",
    "# Reset index\n",
    "data.reset_index(drop=True, inplace=True)\n",
    "\n",
    "# Check for duplicate entries\n",
    "duplicate_rows = data.duplicated()\n",
    "print(\"\\nDuplicate rows:\")\n",
    "print(duplicate_rows.sum())\n",
    "\n",
    "# Display distribution of duplicates\n",
    "print(\"Marked as spam:\", len(data[duplicate_rows][data[\"is_spam\"]]))\n",
    "print(\"Marked as not spam:\", len(data[duplicate_rows][~data[\"is_spam\"]]))"
   ]
  },
  {
   "cell_type": "markdown",
   "id": "8c9cb021",
   "metadata": {},
   "source": [
    "As we can see, only 13% of our sample is marked as spam (704 messages)."
   ]
  },
  {
   "cell_type": "code",
   "execution_count": 5,
   "id": "13fdcdae",
   "metadata": {},
   "outputs": [
    {
     "name": "stdout",
     "output_type": "stream",
     "text": [
      "\n",
      "Cleaned data information:\n",
      "<class 'pandas.core.frame.DataFrame'>\n",
      "RangeIndex: 5351 entries, 0 to 5350\n",
      "Data columns (total 2 columns):\n",
      " #   Column   Non-Null Count  Dtype  \n",
      "---  ------   --------------  -----  \n",
      " 0   sms      5351 non-null   string \n",
      " 1   is_spam  5351 non-null   boolean\n",
      "dtypes: boolean(1), string(1)\n",
      "memory usage: 52.4 KB\n",
      "None\n",
      "\n",
      "Cleaned data preview:\n",
      "                                                 sms  is_spam\n",
      "0  1. Tension face 2. Smiling face 3. Waste face ...    False\n",
      "1  Hhahhaahahah rofl was leonardo in your room or...    False\n",
      "2                        Oh for  sake she's in like     False\n",
      "3  No da:)he is stupid da..always sending like th...    False\n",
      "4  Lul im gettin some juicy gossip at the hospita...    False\n"
     ]
    }
   ],
   "source": [
    "# Display cleaned data information and preview\n",
    "print(\"\\nCleaned data information:\")\n",
    "print(data.info())\n",
    "print(\"\\nCleaned data preview:\")\n",
    "print(data.head())"
   ]
  },
  {
   "cell_type": "markdown",
   "id": "cf6a9f53",
   "metadata": {},
   "source": [
    "## Pre-Processing\n",
    "\n",
    "Based on Ruskanda (2019), we will apply the following preprocessing techniques:\n",
    "- Stemming\n",
    "- Lemmatization\n",
    "- Stopwords removal\n",
    "- Noise removal"
   ]
  },
  {
   "cell_type": "code",
   "execution_count": 9,
   "id": "12c5d63a",
   "metadata": {},
   "outputs": [
    {
     "name": "stderr",
     "output_type": "stream",
     "text": [
      "[nltk_data] Downloading package punkt_tab to\n",
      "[nltk_data]     /Users/jordan/nltk_data...\n",
      "[nltk_data]   Unzipping tokenizers/punkt_tab.zip.\n",
      "[nltk_data] Downloading package stopwords to\n",
      "[nltk_data]     /Users/jordan/nltk_data...\n",
      "[nltk_data]   Package stopwords is already up-to-date!\n",
      "[nltk_data] Downloading package wordnet to /Users/jordan/nltk_data...\n",
      "[nltk_data]   Package wordnet is already up-to-date!\n"
     ]
    },
    {
     "data": {
      "text/plain": [
       "True"
      ]
     },
     "execution_count": 9,
     "metadata": {},
     "output_type": "execute_result"
    }
   ],
   "source": [
    "import nltk\n",
    "import re\n",
    "from nltk.stem import PorterStemmer\n",
    "from nltk.tokenize import word_tokenize\n",
    "from nltk.corpus import stopwords\n",
    "from nltk.stem import WordNetLemmatizer\n",
    "\n",
    "# Download necessary NLTK resources\n",
    "nltk.download(\"punkt_tab\")\n",
    "nltk.download(\"stopwords\")\n",
    "nltk.download(\"wordnet\")"
   ]
  },
  {
   "cell_type": "code",
   "execution_count": 10,
   "id": "84412e77",
   "metadata": {},
   "outputs": [
    {
     "name": "stdout",
     "output_type": "stream",
     "text": [
      "                                                 sms  \\\n",
      "0  1. Tension face 2. Smiling face 3. Waste face ...   \n",
      "1  Hhahhaahahah rofl was leonardo in your room or...   \n",
      "2                        Oh for  sake she's in like    \n",
      "3  No da:)he is stupid da..always sending like th...   \n",
      "4  Lul im gettin some juicy gossip at the hospita...   \n",
      "\n",
      "                                         sms_cleaned  \n",
      "0  tension face smile face wast face innoc face f...  \n",
      "1             hhahhaahahah rofl leonardo room someth  \n",
      "2                                       oh sake like  \n",
      "3                da stupid da alway send like believ  \n",
      "4             lul im gettin juici gossip hospit oyea  \n"
     ]
    }
   ],
   "source": [
    "# Initialize stemmer, lemmatizer, and stop words\n",
    "stemmer = PorterStemmer()\n",
    "lemmatizer = WordNetLemmatizer()\n",
    "stop_words = set(stopwords.words(\"english\"))\n",
    "\n",
    "\n",
    "# Function to preprocess text\n",
    "def preprocess_text(sms):\n",
    "    sms = re.sub(r\"<.*?>\", \" \", sms)  # Remove HTML tags\n",
    "    sms = sms.lower()  # Convert to lowercase\n",
    "    words = word_tokenize(sms)  # Tokenize\n",
    "    words = [word for word in words if word not in stop_words]  # Remove stop words\n",
    "    words = [stemmer.stem(word) for word in words]  # Stemming\n",
    "    words = [lemmatizer.lemmatize(word) for word in words]  # Lemmatization\n",
    "    words = [word for word in words if word.isalnum()]  # Remove non-alphanumeric\n",
    "    return \" \".join(words)\n",
    "\n",
    "\n",
    "# Apply preprocessing\n",
    "data[\"sms_cleaned\"] = data[\"sms\"].apply(preprocess_text)\n",
    "print(data[[\"sms\", \"sms_cleaned\"]].head())"
   ]
  },
  {
   "cell_type": "markdown",
   "id": "14d8a3bc",
   "metadata": {},
   "source": [
    "## Exploratory Data Analysis (EDA)\n",
    "In this section, we will explore the dataset to understand its characteristics."
   ]
  },
  {
   "cell_type": "code",
   "execution_count": 11,
   "id": "4fcac6e8",
   "metadata": {},
   "outputs": [
    {
     "name": "stdout",
     "output_type": "stream",
     "text": [
      "\n",
      "Value counts for 'is_spam' column:\n",
      "is_spam\n",
      "False    4647\n",
      "True      704\n",
      "Name: count, dtype: Int64\n",
      "is_spam\n",
      "False    0.868436\n",
      "True     0.131564\n",
      "Name: proportion, dtype: Float64\n"
     ]
    },
    {
     "data": {
      "image/png": "[encoded data removed]",
      "text/plain": [
       "<Figure size 1800x600 with 2 Axes>"
      ]
     },
     "metadata": {},
     "output_type": "display_data"
    }
   ],
   "source": [
    "# Value counts for 'is_spam' column\n",
    "import numpy as np\n",
    "import matplotlib.pyplot as plt\n",
    "from sklearn.feature_extraction.text import CountVectorizer\n",
    "\n",
    "print(\"\\nValue counts for 'is_spam' column:\")\n",
    "print(data[\"is_spam\"].value_counts())\n",
    "print(data[\"is_spam\"].value_counts(normalize=True))\n",
    "\n",
    "\n",
    "# Function to plot most common words in spam and ham messages\n",
    "def plot_most_common_words(df, n_top_words=20):\n",
    "    spam_messages = df[df[\"is_spam\"]][\"sms_cleaned\"]\n",
    "    ham_messages = df[~df[\"is_spam\"]][\"sms_cleaned\"]\n",
    "\n",
    "    vectorizer_spam = CountVectorizer(stop_words=\"english\")\n",
    "    vectorizer_ham = CountVectorizer(stop_words=\"english\")\n",
    "\n",
    "    spam_matrix = vectorizer_spam.fit_transform(spam_messages)\n",
    "    ham_matrix = vectorizer_ham.fit_transform(ham_messages)\n",
    "\n",
    "    sum_spam = np.sum(spam_matrix, axis=0)\n",
    "    sum_ham = np.sum(ham_matrix, axis=0)\n",
    "\n",
    "    words_spam = [\n",
    "        (word, sum_spam[0, idx]) for word, idx in vectorizer_spam.vocabulary_.items()\n",
    "    ]\n",
    "    words_ham = [\n",
    "        (word, sum_ham[0, idx]) for word, idx in vectorizer_ham.vocabulary_.items()\n",
    "    ]\n",
    "\n",
    "    words_spam = sorted(words_spam, key=lambda x: x[1], reverse=True)[:n_top_words]\n",
    "    words_ham = sorted(words_ham, key=lambda x: x[1], reverse=True)[:n_top_words]\n",
    "\n",
    "    spam_words, spam_counts = zip(*words_spam)\n",
    "    ham_words, ham_counts = zip(*words_ham)\n",
    "\n",
    "    fig, (ax1, ax2) = plt.subplots(1, 2, figsize=(18, 6))\n",
    "    ax1.barh(spam_words, spam_counts, color=\"red\")\n",
    "    ax1.set_title(f\"Top {n_top_words} Most Common Words in Spam Messages\")\n",
    "    ax1.invert_yaxis()\n",
    "\n",
    "    ax2.barh(ham_words, ham_counts, color=\"green\")\n",
    "    ax2.set_title(f\"Top {n_top_words} Most Common Words in Ham Messages\")\n",
    "    ax2.invert_yaxis()\n",
    "\n",
    "    plt.tight_layout()\n",
    "    plt.show()\n",
    "\n",
    "\n",
    "# Plot most common words\n",
    "plot_most_common_words(data, n_top_words=20)"
   ]
  },
  {
   "cell_type": "markdown",
   "id": "eb5795a9",
   "metadata": {},
   "source": [
    "## Data Splitting\n",
    "We will split the data into training and testing sets, and apply oversampling using SMOTE to handle class imbalance."
   ]
  },
  {
   "cell_type": "code",
   "execution_count": 12,
   "id": "06b6022f",
   "metadata": {},
   "outputs": [
    {
     "name": "stdout",
     "output_type": "stream",
     "text": [
      "Class distribution in y_train_smote: is_spam\n",
      "0    3252\n",
      "1    3252\n",
      "Name: count, dtype: int64\n"
     ]
    }
   ],
   "source": [
    "from sklearn.model_selection import train_test_split\n",
    "from imblearn.over_sampling import SMOTE\n",
    "from sklearn.feature_extraction.text import CountVectorizer\n",
    "\n",
    "# Extract features using CountVectorizer\n",
    "vectorizer = CountVectorizer()\n",
    "X = vectorizer.fit_transform(data[\"sms_cleaned\"])\n",
    "\n",
    "# Define target variable 'y'\n",
    "y = df[\"is_spam\"].astype(int)\n",
    "\n",
    "# Split data into training and test sets\n",
    "X_train, X_test, y_train, y_test = train_test_split(\n",
    "    X, y, test_size=0.3, random_state=42, stratify=y\n",
    ")\n",
    "\n",
    "# Initialize and fit SMOTE\n",
    "smote = SMOTE(random_state=42)\n",
    "X_train_smote, y_train_smote = smote.fit_resample(X_train, y_train)\n",
    "\n",
    "# Display class distribution after SMOTE\n",
    "print(\"Class distribution in y_train_smote:\", pd.Series(y_train_smote).value_counts())"
   ]
  },
  {
   "cell_type": "markdown",
   "id": "e6cd09c6",
   "metadata": {},
   "source": [
    "## Model Training: Naive Bayes Classifier"
   ]
  },
  {
   "cell_type": "code",
   "execution_count": 13,
   "id": "5e73ae8c",
   "metadata": {},
   "outputs": [
    {
     "name": "stdout",
     "output_type": "stream",
     "text": [
      "Accuracy of the Naive Bayes classifier: 0.96\n",
      "Confusion Matrix:\n",
      " [[1347   48]\n",
      " [  19  192]]\n",
      "Classification Report:\n",
      "               precision    recall  f1-score   support\n",
      "\n",
      "         Ham       0.99      0.97      0.98      1395\n",
      "        Spam       0.80      0.91      0.85       211\n",
      "\n",
      "    accuracy                           0.96      1606\n",
      "   macro avg       0.89      0.94      0.91      1606\n",
      "weighted avg       0.96      0.96      0.96      1606\n",
      "\n"
     ]
    }
   ],
   "source": [
    "from sklearn.naive_bayes import MultinomialNB\n",
    "from sklearn.metrics import accuracy_score, confusion_matrix, classification_report\n",
    "\n",
    "# Train Naive Bayes classifier\n",
    "nb_classifier = MultinomialNB()\n",
    "nb_classifier.fit(X_train_smote, y_train_smote)\n",
    "\n",
    "# Predict on test data\n",
    "y_pred = nb_classifier.predict(X_test)\n",
    "\n",
    "# Accuracy and confusion matrix\n",
    "accuracy = accuracy_score(y_test, y_pred)\n",
    "print(f\"Accuracy of the Naive Bayes classifier: {accuracy:.2f}\")\n",
    "conf_matrix = confusion_matrix(y_test, y_pred)\n",
    "print(\"Confusion Matrix:\\n\", conf_matrix)\n",
    "\n",
    "# Classification report\n",
    "class_report = classification_report(y_test, y_pred, target_names=[\"Ham\", \"Spam\"])\n",
    "print(\"Classification Report:\\n\", class_report)"
   ]
  },
  {
   "cell_type": "markdown",
   "id": "08c31e60",
   "metadata": {},
   "source": [
    "As Ruskanda (2019) suggests, accuracy alone is not sufficient to evaluate model performance, especially with imbalanced datasets. Instead, precision, recall, and F1-score provide a more comprehensive view."
   ]
  },
  {
   "cell_type": "markdown",
   "id": "c7d94556",
   "metadata": {},
   "source": [
    "## Model Training: Support Vector Machine (SVM)"
   ]
  },
  {
   "cell_type": "code",
   "execution_count": 14,
   "id": "bf2d63a4",
   "metadata": {},
   "outputs": [
    {
     "name": "stdout",
     "output_type": "stream",
     "text": [
      "Accuracy of the SVM classifier: 0.85\n",
      "Confusion Matrix:\n",
      " [[1201  194]\n",
      " [  43  168]]\n",
      "Classification Report:\n",
      "               precision    recall  f1-score   support\n",
      "\n",
      "         Ham       0.97      0.86      0.91      1395\n",
      "        Spam       0.46      0.80      0.59       211\n",
      "\n",
      "    accuracy                           0.85      1606\n",
      "   macro avg       0.71      0.83      0.75      1606\n",
      "weighted avg       0.90      0.85      0.87      1606\n",
      "\n"
     ]
    }
   ],
   "source": [
    "from sklearn.svm import SVC\n",
    "from sklearn.preprocessing import StandardScaler\n",
    "from sklearn.pipeline import make_pipeline\n",
    "\n",
    "# Create SVM pipeline\n",
    "svm_pipeline = make_pipeline(\n",
    "    StandardScaler(with_mean=False), SVC(kernel=\"linear\", random_state=42)\n",
    ")\n",
    "\n",
    "# Train SVM model\n",
    "svm_pipeline.fit(X_train_smote, y_train_smote)\n",
    "\n",
    "# Predict on test data\n",
    "y_pred_svm = svm_pipeline.predict(X_test)\n",
    "\n",
    "# Accuracy and confusion matrix\n",
    "accuracy_svm = accuracy_score(y_test, y_pred_svm)\n",
    "print(f\"Accuracy of the SVM classifier: {accuracy_svm:.2f}\")\n",
    "conf_matrix_svm = confusion_matrix(y_test, y_pred_svm)\n",
    "print(\"Confusion Matrix:\\n\", conf_matrix_svm)\n",
    "\n",
    "# Classification report\n",
    "class_report_svm = classification_report(\n",
    "    y_test, y_pred_svm, target_names=[\"Ham\", \"Spam\"]\n",
    ")\n",
    "print(\"Classification Report:\\n\", class_report_svm)"
   ]
  },
  {
   "cell_type": "markdown",
   "id": "d5027264",
   "metadata": {},
   "source": [
    "Let's record the initial performance of the SVM:\n",
    "\n",
    "    Accuracy of the SVM classifier: 0.85\n",
    "    Confusion Matrix:\n",
    "    [[1200  195]\n",
    "    [  43  168]]\n",
    "    Classification Report:\n",
    "                  precision    recall  f1-score   support\n",
    "\n",
    "            Ham       0.97      0.86      0.91      1395\n",
    "            Spam       0.46      0.80      0.59       211\n",
    "\n",
    "        accuracy                            0.85      1606\n",
    "      macro avg       0.71      0.83      0.75      1606\n",
    "    weighted avg      0.90      0.85      0.87      1606\n"
   ]
  },
  {
   "cell_type": "markdown",
   "id": "55ecef75",
   "metadata": {},
   "source": [
    "## Hyperparameter Optimization — Grid Search\n",
    "We will use GridSearchCV to find the best hyperparameters for both the Naive Bayes and SVM classifiers."
   ]
  },
  {
   "cell_type": "code",
   "execution_count": 15,
   "id": "6212c8c4",
   "metadata": {},
   "outputs": [
    {
     "name": "stdout",
     "output_type": "stream",
     "text": [
      "Best Naive Bayes Parameters: {'alpha': 0.1}\n",
      "Best Naive Bayes Model: MultinomialNB(alpha=0.1)\n",
      "Best CV Score: 0.8664429432234687\n",
      "Best SVM Parameters: {'svc__C': 10, 'svc__gamma': 'scale', 'svc__kernel': 'rbf'}\n",
      "Best SVM Model: Pipeline(steps=[('standardscaler', StandardScaler(with_mean=False)),\n",
      "                ('svc', SVC(C=10, random_state=42))])\n",
      "Best CV Score: 0.9296629678849218\n"
     ]
    }
   ],
   "source": [
    "from sklearn.model_selection import GridSearchCV\n",
    "\n",
    "# Naive Bayes parameters\n",
    "params_nb = {\"alpha\": [0.01, 0.1, 0.5, 1.0, 10.0]}\n",
    "nb_grid_search = GridSearchCV(\n",
    "    nb_classifier, param_grid=params_nb, cv=5, scoring=\"f1_weighted\"\n",
    ")\n",
    "nb_grid_search.fit(X_train_smote, y_train_smote)\n",
    "\n",
    "print(\"Best Naive Bayes Parameters:\", nb_grid_search.best_params_)\n",
    "print(\"Best Naive Bayes Model:\", nb_grid_search.best_estimator_)\n",
    "print(\"Best CV Score:\", nb_grid_search.best_score_)\n",
    "\n",
    "# SVM parameters\n",
    "params_svm = {\n",
    "    \"svc__C\": [0.1, 1, 10],\n",
    "    \"svc__gamma\": [\"scale\", \"auto\"],\n",
    "    \"svc__kernel\": [\"linear\", \"rbf\"],\n",
    "}\n",
    "svm_grid_search = GridSearchCV(\n",
    "    svm_pipeline, param_grid=params_svm, cv=5, scoring=\"f1_weighted\", n_jobs=1\n",
    ")\n",
    "svm_grid_search.fit(X_train_smote, y_train_smote)\n",
    "\n",
    "print(\"Best SVM Parameters:\", svm_grid_search.best_params_)\n",
    "print(\"Best SVM Model:\", svm_grid_search.best_estimator_)\n",
    "print(\"Best CV Score:\", svm_grid_search.best_score_)"
   ]
  },
  {
   "cell_type": "markdown",
   "id": "733eb948",
   "metadata": {},
   "source": [
    "## Train and Evaluate Best Models"
   ]
  },
  {
   "cell_type": "markdown",
   "id": "f5f12164",
   "metadata": {},
   "source": [
    "### Best Model SVC"
   ]
  },
  {
   "cell_type": "code",
   "execution_count": 16,
   "id": "40a3ee39",
   "metadata": {},
   "outputs": [
    {
     "name": "stdout",
     "output_type": "stream",
     "text": [
      "Accuracy of the SVM classifier: 0.87\n",
      "Confusion Matrix:\n",
      " [[1265  130]\n",
      " [  80  131]]\n",
      "Classification Report:\n",
      "               precision    recall  f1-score   support\n",
      "\n",
      "         Ham       0.94      0.91      0.92      1395\n",
      "        Spam       0.50      0.62      0.56       211\n",
      "\n",
      "    accuracy                           0.87      1606\n",
      "   macro avg       0.72      0.76      0.74      1606\n",
      "weighted avg       0.88      0.87      0.87      1606\n",
      "\n"
     ]
    }
   ],
   "source": [
    "# Create best SVM pipeline with optimal hyperparameters\n",
    "best_svm_pipeline = make_pipeline(\n",
    "    StandardScaler(with_mean=False),\n",
    "    SVC(C=10, kernel=\"rbf\", gamma=\"scale\", random_state=42),\n",
    ")\n",
    "\n",
    "# Train the SVM model with optimal hyperparameters\n",
    "best_svm_pipeline.fit(X_train_smote, y_train_smote)\n",
    "\n",
    "# Predict on test data\n",
    "y_pred_svm = best_svm_pipeline.predict(X_test)\n",
    "\n",
    "# Calculate accuracy\n",
    "accuracy_svm = accuracy_score(y_test, y_pred_svm)\n",
    "print(f\"Accuracy of the SVM classifier: {accuracy_svm:.2f}\")\n",
    "\n",
    "# Generate confusion matrix and classification report\n",
    "conf_matrix_svm = confusion_matrix(y_test, y_pred_svm)\n",
    "print(\"Confusion Matrix:\\n\", conf_matrix_svm)\n",
    "class_report_svm = classification_report(\n",
    "    y_test, y_pred_svm, target_names=[\"Ham\", \"Spam\"]\n",
    ")\n",
    "print(\"Classification Report:\\n\", class_report_svm)"
   ]
  },
  {
   "cell_type": "markdown",
   "id": "644a2d80",
   "metadata": {},
   "source": [
    "### Best Model Naive Bayes"
   ]
  },
  {
   "cell_type": "code",
   "execution_count": 17,
   "id": "ed187913",
   "metadata": {},
   "outputs": [
    {
     "name": "stdout",
     "output_type": "stream",
     "text": [
      "Accuracy of the Naive Bayes classifier: 0.97\n",
      "Confusion Matrix:\n",
      " [[1357   38]\n",
      " [  18  193]]\n",
      "Classification Report:\n",
      "               precision    recall  f1-score   support\n",
      "\n",
      "         Ham       0.99      0.97      0.98      1395\n",
      "        Spam       0.84      0.91      0.87       211\n",
      "\n",
      "    accuracy                           0.97      1606\n",
      "   macro avg       0.91      0.94      0.93      1606\n",
      "weighted avg       0.97      0.97      0.97      1606\n",
      "\n"
     ]
    }
   ],
   "source": [
    "# Train Naive Bayes classifier with optimal hyperparameters\n",
    "best_nb_classifier = MultinomialNB(alpha=0.1)\n",
    "best_nb_classifier.fit(X_train_smote, y_train_smote)\n",
    "\n",
    "# Predict on test data\n",
    "y_pred_nb = best_nb_classifier.predict(X_test)\n",
    "\n",
    "# Calculate accuracy\n",
    "accuracy_nb = accuracy_score(y_test, y_pred_nb)\n",
    "print(f\"Accuracy of the Naive Bayes classifier: {accuracy_nb:.2f}\")\n",
    "\n",
    "# Generate confusion matrix and classification report\n",
    "conf_matrix_nb = confusion_matrix(y_test, y_pred_nb)\n",
    "print(\"Confusion Matrix:\\n\", conf_matrix_nb)\n",
    "class_report_nb = classification_report(y_test, y_pred_nb, target_names=[\"Ham\", \"Spam\"])\n",
    "print(\"Classification Report:\\n\", class_report_nb)"
   ]
  },
  {
   "cell_type": "markdown",
   "id": "6b4dbb70",
   "metadata": {},
   "source": [
    "The results show that Naive Bayes outperforms SVM in terms of precision, recall, and F1-score. However, both models benefit from hyperparameter tuning."
   ]
  },
  {
   "cell_type": "markdown",
   "id": "de2ad742",
   "metadata": {},
   "source": [
    "## Testing Model Performance\n",
    "We will measure the training and prediction times, as well as accuracy and balanced accuracy for both models."
   ]
  },
  {
   "cell_type": "code",
   "execution_count": 18,
   "id": "f2334b24",
   "metadata": {},
   "outputs": [
    {
     "name": "stdout",
     "output_type": "stream",
     "text": [
      "Naive Bayes Metrics:\n",
      "training_time: 0.0068\n",
      "prediction_time: 0.0007\n",
      "accuracy: 0.9651\n",
      "balanced_accuracy: 0.9437\n",
      "\n",
      "SVM Metrics:\n",
      "training_time: 1.3312\n",
      "prediction_time: 0.2263\n",
      "accuracy: 0.8692\n",
      "balanced_accuracy: 0.7638\n"
     ]
    }
   ],
   "source": [
    "import time\n",
    "from sklearn.metrics import accuracy_score, balanced_accuracy_score\n",
    "\n",
    "# Initialize dictionaries to save the evaluation metrics\n",
    "metrics_nb = {}\n",
    "metrics_svc = {}\n",
    "\n",
    "# Evaluate Naive Bayes\n",
    "start_train_nb = time.time()\n",
    "best_nb_classifier.fit(X_train_smote, y_train_smote)\n",
    "end_train_nb = time.time()\n",
    "metrics_nb[\"training_time\"] = end_train_nb - start_train_nb\n",
    "\n",
    "start_pred_nb = time.time()\n",
    "y_pred_nb = best_nb_classifier.predict(X_test)\n",
    "end_pred_nb = time.time()\n",
    "metrics_nb[\"prediction_time\"] = end_pred_nb - start_pred_nb\n",
    "metrics_nb[\"accuracy\"] = accuracy_score(y_test, y_pred_nb)\n",
    "metrics_nb[\"balanced_accuracy\"] = balanced_accuracy_score(y_test, y_pred_nb)\n",
    "\n",
    "# Print Naive Bayes metrics\n",
    "print(\"Naive Bayes Metrics:\")\n",
    "for metric, value in metrics_nb.items():\n",
    "    print(f\"{metric}: {value:.4f}\")\n",
    "\n",
    "# Evaluate SVM\n",
    "start_train_svc = time.time()\n",
    "best_svm_pipeline.fit(X_train_smote, y_train_smote)\n",
    "end_train_svc = time.time()\n",
    "metrics_svc[\"training_time\"] = end_train_svc - start_train_svc\n",
    "\n",
    "start_pred_svc = time.time()\n",
    "y_pred_svc = best_svm_pipeline.predict(X_test)\n",
    "end_pred_svc = time.time()\n",
    "metrics_svc[\"prediction_time\"] = end_pred_svc - start_pred_svc\n",
    "metrics_svc[\"accuracy\"] = accuracy_score(y_test, y_pred_svc)\n",
    "metrics_svc[\"balanced_accuracy\"] = balanced_accuracy_score(y_test, y_pred_svc)\n",
    "\n",
    "# Print SVM metrics\n",
    "print(\"\\nSVM Metrics:\")\n",
    "for metric, value in metrics_svc.items():\n",
    "    print(f\"{metric}: {value:.4f}\")"
   ]
  },
  {
   "cell_type": "markdown",
   "id": "4277238e",
   "metadata": {},
   "source": [
    "## Discussion\n",
    "Reflect on the results and performance of both models.\n",
    "\n",
    "- Which model performed better overall?\n",
    "- What could be the reasons for the difference in performance?\n",
    "- How did hyperparameter tuning affect the model outcomes?\n",
    "- Are there any additional techniques or preprocessing steps you think could improve the results?"
   ]
  },
  {
   "cell_type": "markdown",
   "id": "785e1c0d",
   "metadata": {},
   "source": [
    "## References\n",
    "\n",
    "Kaddoura, S., Chandrasekaran, G., Popescu, D.E. and Duraisamy, J.H., 2022. A systematic literature review on spam content detection and classification. _PeerJ Computer Science_, 8:e830. Available at: <https://doi.org/10.7717/peerj-cs.830>\n",
    "\n",
    "Ruskanda, F.Z., 2019. Study on the effect of preprocessing methods for spam email detection. _Indonesia Journal of Computing_, 4(1), MARET. Available at: <https://doi.org/10.21108/INDOJC.2019.4.1.284>\n"
   ]
  }
 ],
 "metadata": {
  "jupytext": {
   "cell_metadata_filter": "-all",
   "main_language": "python",
   "notebook_metadata_filter": "-all"
  },
  "kernelspec": {
   "display_name": "AI_Skillset",
   "language": "python",
   "name": "python3"
  },
  "language_info": {
   "codemirror_mode": {
    "name": "ipython",
    "version": 3
   },
   "file_extension": ".py",
   "mimetype": "text/x-python",
   "name": "python",
   "nbconvert_exporter": "python",
   "pygments_lexer": "ipython3",
   "version": "3.12.5"
  }
 },
 "nbformat": 4,
 "nbformat_minor": 5
}
